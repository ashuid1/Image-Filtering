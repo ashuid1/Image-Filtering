{
 "cells": [
  {
   "cell_type": "markdown",
   "id": "5f291df2",
   "metadata": {},
   "source": [
    "## Image Editing⚒️⚒️⚒️⚒️⚒️\n",
    "\n",
    "To make a image beautififul in anoter social media apps Increase the brightness, decrese the brightness, Warm and glow thw image This things to be done So in this project we see how to do all this things by own function."
   ]
  },
  {
   "cell_type": "code",
   "execution_count": 1,
   "id": "68139fb2",
   "metadata": {},
   "outputs": [],
   "source": [
    "import numpy as np\n",
    "import cv2 as cv\n",
    "import matplotlib.pyplot as plt"
   ]
  },
  {
   "cell_type": "markdown",
   "id": "f408fb9d",
   "metadata": {},
   "source": [
    "#### For Basic Kinds of editing in the image will be done by only playing with dimentions and pixels values of the image, just incease and decreas the pixel value then we get our desire result. For this task focus on the pixel values only."
   ]
  },
  {
   "cell_type": "markdown",
   "id": "6cfe1267",
   "metadata": {},
   "source": [
    "### Control Brithness of the image  : Doing this by increasing or decreasing the pixel value of the image\n",
    "\n",
    "#### Increasing Brightness"
   ]
  },
  {
   "cell_type": "code",
   "execution_count": 3,
   "id": "46394603",
   "metadata": {},
   "outputs": [],
   "source": [
    "pixel = float(20)\n",
    "\n",
    "cam = cv.VideoCapture(0)\n",
    "\n",
    "while True:\n",
    "    _,img = cam.read()\n",
    "    img = cv.flip(img, 1)\n",
    "    \n",
    "    img_1 = img + pixel\n",
    "    img_1[img_1 < 0] = 0\n",
    "    img_1[img_1 > 255] = 255\n",
    "    img_1 = img_1.astype(np.uint8)\n",
    "    \n",
    "    img_2 = img + (2*pixel)\n",
    "    img_2[img_2 < 0] = 0\n",
    "    img_2[img_2 > 255] = 255\n",
    "    img_2 = img_1.astype(np.uint8)\n",
    "    \n",
    "    \n",
    "    cv.imshow('Original', img)\n",
    "    cv.imshow('New', img_1)\n",
    "    cv.imshow('More Brighter', img_2)\n",
    "    \n",
    "    if cv.waitKey(1) == 27:\n",
    "        cam.release()\n",
    "        break"
   ]
  },
  {
   "cell_type": "markdown",
   "id": "9ad8090d",
   "metadata": {},
   "source": [
    "#### Decreasing Brightness"
   ]
  },
  {
   "cell_type": "code",
   "execution_count": 7,
   "id": "9487d2a1",
   "metadata": {},
   "outputs": [
    {
     "data": {
      "text/plain": [
       "128.8693793402778"
      ]
     },
     "execution_count": 7,
     "metadata": {},
     "output_type": "execute_result"
    }
   ],
   "source": [
    "pixel = float(10)\n",
    "\n",
    "cam = cv.VideoCapture(0)\n",
    "\n",
    "while True:\n",
    "    _,img = cam.read()\n",
    "    img = cv.flip(img, 1)\n",
    "    \n",
    "    img_1 = img - pixel\n",
    "    img_1[img_1 < 0] = 0\n",
    "    img_1[img_1 > 255] = 255\n",
    "    img_1 = img_1.astype(np.uint8)\n",
    "    \n",
    "    img_2 = img - (2*pixel)\n",
    "    img_2[img_2 < 0] = 0\n",
    "    img_2[img_2 > 255] = 255\n",
    "    img_2 = img_1.astype(np.uint8)\n",
    "    \n",
    "    \n",
    "    cv.imshow('Original', img)\n",
    "    cv.imshow('New', img_1)\n",
    "    cv.imshow('More Brighter', img_2)\n",
    "    \n",
    "    if cv.waitKey(1) == 27:\n",
    "        cam.release()\n",
    "        break"
   ]
  },
  {
   "cell_type": "markdown",
   "id": "1aa602e6",
   "metadata": {},
   "source": [
    "#### Adding cool Tool to image"
   ]
  },
  {
   "cell_type": "code",
   "execution_count": 6,
   "id": "d13b843d",
   "metadata": {},
   "outputs": [
    {
     "data": {
      "text/plain": [
       "(480, 640, 3)"
      ]
     },
     "execution_count": 6,
     "metadata": {},
     "output_type": "execute_result"
    }
   ],
   "source": [
    "img.shape"
   ]
  },
  {
   "cell_type": "code",
   "execution_count": 15,
   "id": "51b7fc66",
   "metadata": {},
   "outputs": [],
   "source": [
    "color = [200,224,232]  # Color in BGR format\n",
    "\n",
    "# Create background numpy array\n",
    "background = np.full((480, 640, 3), color, dtype=np.uint8)\n",
    "\n",
    "# Start capturing video from webcam\n",
    "cam = cv.VideoCapture(0)\n",
    "\n",
    "while True:\n",
    "    _, img = cam.read()\n",
    "    img = cv.flip(img, 1)\n",
    "    \n",
    "    # Convert img to numpy array if not already\n",
    "    img = np.array(img).astype(np.uint8)\n",
    "    \n",
    "    # Merge the images\n",
    "    merged = cv.addWeighted(img, 0.70, background, 0.30, 0)\n",
    "    \n",
    "    # Display the images\n",
    "    cv.imshow('Original', img)\n",
    "    cv.imshow('Merged', merged)\n",
    "    \n",
    "    # Break the loop if 'Esc' key is pressed\n",
    "    if cv.waitKey(1) == 27:\n",
    "        cam.release()\n",
    "        break\n",
    "\n",
    "# Close all windows\n",
    "cv.destroyAllWindows()"
   ]
  },
  {
   "cell_type": "markdown",
   "id": "c864e926",
   "metadata": {},
   "source": [
    "### Creating Cool images which have different dimentions.\n",
    "\n",
    "doing this task have to make the dimention of the image and background be same"
   ]
  },
  {
   "cell_type": "code",
   "execution_count": 25,
   "id": "596b9008",
   "metadata": {},
   "outputs": [
    {
     "data": {
      "text/plain": [
       "-1"
      ]
     },
     "execution_count": 25,
     "metadata": {},
     "output_type": "execute_result"
    }
   ],
   "source": [
    "## loading the image\n",
    "img = cv.imread('Imgs/background-7105471__480.jpg')\n",
    "\n",
    "color = [200,224,232]  # Color in BGR format\n",
    "\n",
    "cols = img.shape[1]\n",
    "rows = img.shape[0]\n",
    "\n",
    "# Create background numpy array\n",
    "background = np.full((rows, cols, 3), color, dtype=np.uint8)\n",
    "\n",
    "final = cv.addWeighted(img, .8, background, .2, 0)\n",
    "\n",
    "cv.imshow('Final Image', final)\n",
    "cv.waitKey(0)"
   ]
  },
  {
   "cell_type": "code",
   "execution_count": null,
   "id": "0ea5eb62",
   "metadata": {},
   "outputs": [],
   "source": [
    "cv.destroyAllWindows()"
   ]
  },
  {
   "cell_type": "markdown",
   "id": "b1580354",
   "metadata": {},
   "source": [
    "### Customize into the function creating cool into the images"
   ]
  },
  {
   "cell_type": "code",
   "execution_count": 26,
   "id": "a277739a",
   "metadata": {},
   "outputs": [],
   "source": [
    "def add_tone(img_path, color, a, b):\n",
    "    img = cv.imread(img_path)\n",
    "    cols = img.shape[1]\n",
    "    rows = img.shape[0]\n",
    "    \n",
    "    background = np.full((rows, cols, 3), color, dtype=np.uint8)\n",
    "    \n",
    "    final = cv.addWeighted(img, a, background, b, 0)\n",
    "    \n",
    "    cv.imshow('Original image', img)\n",
    "    cv.waitKey(0)\n",
    "\n",
    "    cv.imshow('Final Image', final)\n",
    "    cv.waitKey(0)"
   ]
  },
  {
   "cell_type": "code",
   "execution_count": 27,
   "id": "22889a0c",
   "metadata": {},
   "outputs": [],
   "source": [
    "add_tone('Imgs/bird-6983434__340.jpg',[96,189,244],.9,.1)"
   ]
  },
  {
   "cell_type": "markdown",
   "id": "b8821cba",
   "metadata": {},
   "source": [
    "### Mearging two different images into one\n",
    "\n",
    "- a : intensity of foreground image\n",
    "- b : intensity of background image\n",
    "- Note : make the shape of both the images same then it will work"
   ]
  },
  {
   "cell_type": "code",
   "execution_count": 36,
   "id": "374276ab",
   "metadata": {},
   "outputs": [],
   "source": [
    "def mearge_image(foreground_path, background_path, a, b):\n",
    "    \n",
    "    background = []\n",
    "    \n",
    "    img = cv.imread(foreground_path)\n",
    "    background = cv.imread(background_path)\n",
    "    \n",
    "    background = cv.resize(background, (img.shape[1],img.shape[0]))\n",
    "    \n",
    "    final = cv.addWeighted(img, a, background, b, 0)\n",
    "    \n",
    "    cv.imshow('Original image', img)\n",
    "    cv.waitKey(0)\n",
    "\n",
    "    cv.imshow('Final Image', final)\n",
    "    cv.waitKey(0)"
   ]
  },
  {
   "cell_type": "code",
   "execution_count": 37,
   "id": "5321597d",
   "metadata": {},
   "outputs": [],
   "source": [
    "mearge_image('Imgs/bird-6983434__340.jpg','Imgs/background-7105471__480.jpg',.7,.3)"
   ]
  },
  {
   "cell_type": "markdown",
   "id": "435076ec",
   "metadata": {},
   "source": [
    "### Apply threashold on the pixel values (Gray Scale)\n",
    "- applying threashold on the image to remove the background so play with pixel value for better result"
   ]
  },
  {
   "cell_type": "code",
   "execution_count": 53,
   "id": "6dd0fb97",
   "metadata": {},
   "outputs": [],
   "source": [
    "cam = cv.VideoCapture(0)\n",
    "\n",
    "while True:\n",
    "    _, img = cam.read()\n",
    "    \n",
    "    img = cv.resize(img, (int(img.shape[1]/2), int(img.shape[0]/2)))\n",
    "    img = cv.flip(img,1)\n",
    "    \n",
    "    gray = cv.cvtColor(img, cv.COLOR_BGR2GRAY)\n",
    "    \n",
    "    gray_the_1 = gray.copy()\n",
    "    gray_the_1[gray_the_1 > 200] = 255          ### Black BackGround\n",
    "    \n",
    "    gray_the_2 = gray.copy()\n",
    "    gray_the_2[gray_the_2 < 200] = 100          ### White BackGround\n",
    "    \n",
    "    cv.imshow('Original', img)\n",
    "    cv.imshow('Gray', gray)\n",
    "    cv.imshow('Gray_Thr', gray_the_1)\n",
    "    cv.imshow('Gray_Thr', gray_the_2)\n",
    "    \n",
    "    if cv.waitKey(1) == 27:\n",
    "        cam.release()\n",
    "        break"
   ]
  },
  {
   "cell_type": "markdown",
   "id": "c11edb2a",
   "metadata": {},
   "source": [
    "### Apply threashold on the pixel values (RGB Scale)\n",
    "- lower = maximum lower pixel value of the image which shown\n",
    "- upper = maximum upper pixel value of the image which shown\n",
    "\n",
    "- Note : to know lower and upper values use colormeter app which show RGB values of the particular point then find the lower and upper values from the image for better result."
   ]
  },
  {
   "cell_type": "code",
   "execution_count": 63,
   "id": "685a90ac",
   "metadata": {},
   "outputs": [],
   "source": [
    "cam = cv.VideoCapture(0)\n",
    "\n",
    "### palying with this values for better result\n",
    "lower = np.array([100,100,100])      ### BGR Format\n",
    "upper = np.array([255,255,255])\n",
    "\n",
    "while True:\n",
    "    _, img = cam.read()\n",
    "    img = cv.flip(img, 1)\n",
    "    mask = cv.blur(img,(4,4))\n",
    "    mask = cv.inRange(mask, lower, upper)\n",
    "    \n",
    "    cv.imshow('Original', img)\n",
    "    cv.imshow('Mask_Image', mask)\n",
    "    \n",
    "    if(cv.waitKey(1) == 27):\n",
    "        cam.release()\n",
    "        break"
   ]
  },
  {
   "cell_type": "code",
   "execution_count": 86,
   "id": "e072cf16",
   "metadata": {},
   "outputs": [],
   "source": [
    "cv.destroyAllWindows()"
   ]
  },
  {
   "cell_type": "markdown",
   "id": "f61b1d80",
   "metadata": {},
   "source": [
    "### Adding logo to realtime Video Frame\n",
    "- just only crop the image in that sense that will fit for the logo.\n",
    "- here we set the pixel value customly"
   ]
  },
  {
   "cell_type": "code",
   "execution_count": 79,
   "id": "4898d2e1",
   "metadata": {},
   "outputs": [],
   "source": [
    "cam = cv.VideoCapture(0)\n",
    "logo = cv.imread('download.png')\n",
    "\n",
    "logo = cv.resize(logo, (100,100))\n",
    "\n",
    "while True:\n",
    "    _,img = cam.read()\n",
    "    img = cv.flip(img,1)\n",
    "    \n",
    "    img[50:150,530:630] = logo\n",
    "    \n",
    "    cv.imshow('Frame', img)\n",
    "    \n",
    "    if(cv.waitKey(1) == 27):\n",
    "        cam.release()\n",
    "        break"
   ]
  },
  {
   "cell_type": "code",
   "execution_count": 77,
   "id": "09d9261b",
   "metadata": {},
   "outputs": [
    {
     "data": {
      "text/plain": [
       "487"
      ]
     },
     "execution_count": 77,
     "metadata": {},
     "output_type": "execute_result"
    }
   ],
   "source": [
    "Width  = (16% = logo, 1% = Margin, 83.5% = Vacent)\n",
    "Height = (21% = logo, 1% = Margin, 78.5% = Vacent)"
   ]
  },
  {
   "cell_type": "markdown",
   "id": "b6ef3683",
   "metadata": {},
   "source": [
    "### Adding logo by calculate the height and margin and weidh\n",
    "\n",
    "#### Top Right"
   ]
  },
  {
   "cell_type": "code",
   "execution_count": 94,
   "id": "ba37299e",
   "metadata": {},
   "outputs": [],
   "source": [
    "logo = cv.imread('download.png')\n",
    "# Resize logo\n",
    "logo = cv.resize(logo, (100, 100))\n",
    "\n",
    "# Start capturing video from webcam\n",
    "cam = cv.VideoCapture(0)\n",
    "\n",
    "while True:\n",
    "    _, img = cam.read()\n",
    "    img = cv.flip(img, 1)\n",
    "    \n",
    "    ht, wt, _ = img.shape\n",
    "    \n",
    "    # Calculate logo position and size based on image dimensions\n",
    "    margin_top = int(ht / 100)\n",
    "    logo_height = int((ht / 100) * 16)\n",
    "    \n",
    "    # Adjust the logo width based on aspect ratio\n",
    "    logo_width = int((logo.shape[1] / logo.shape[0]) * logo_height)\n",
    "    \n",
    "    margin_left = int((wt / 100) * 78)\n",
    "    \n",
    "    # Resize the logo to calculated dimensions\n",
    "    logo_resized = cv.resize(logo, (logo_width, logo_height))\n",
    "    \n",
    "    # Update the region where logo is placed\n",
    "    img[margin_top : margin_top + logo_height, margin_left : margin_left + logo_width] = logo_resized\n",
    "    \n",
    "    # Display the frame\n",
    "    cv.imshow('Frame', img)\n",
    "    \n",
    "    # Break the loop if 'Esc' key is pressed\n",
    "    if cv.waitKey(1) == 27:\n",
    "        cam.release()\n",
    "        break\n",
    "\n",
    "# Close all windows\n",
    "cv.destroyAllWindows()"
   ]
  },
  {
   "cell_type": "markdown",
   "id": "dafd143c",
   "metadata": {},
   "source": [
    "#### Top Left   \n",
    "-- By this way go with bootm left, right"
   ]
  },
  {
   "cell_type": "code",
   "execution_count": 95,
   "id": "55e26f2a",
   "metadata": {},
   "outputs": [],
   "source": [
    "logo = cv.imread('download.png')\n",
    "# Resize logo\n",
    "logo = cv.resize(logo, (100, 100))\n",
    "\n",
    "# Start capturing video from webcam\n",
    "cam = cv.VideoCapture(0)\n",
    "\n",
    "while True:\n",
    "    _, img = cam.read()\n",
    "    img = cv.flip(img, 1)\n",
    "    \n",
    "    ht, wt, _ = img.shape\n",
    "    \n",
    "    # Set the margin values for top-left positioning\n",
    "    margin_top = 10  # Adjust this value to change the distance from the top\n",
    "    margin_left = 10  # Adjust this value to change the distance from the left\n",
    "    \n",
    "    # Update the region where logo is placed\n",
    "    img[margin_top : margin_top + logo.shape[0], margin_left : margin_left + logo.shape[1]] = logo\n",
    "    \n",
    "    # Display the frame\n",
    "    cv.imshow('Frame', img)\n",
    "    \n",
    "    # Break the loop if 'Esc' key is pressed\n",
    "    if cv.waitKey(1) == 27:\n",
    "        cam.release()\n",
    "        break\n",
    "\n",
    "# Close all windows\n",
    "cv.destroyAllWindows()"
   ]
  },
  {
   "cell_type": "markdown",
   "id": "0db8b275",
   "metadata": {},
   "source": [
    "### Adding Logo to 4 corners of the frame"
   ]
  },
  {
   "cell_type": "code",
   "execution_count": 10,
   "id": "f4f14af6",
   "metadata": {},
   "outputs": [],
   "source": [
    "logo = cv.imread('download.png')\n",
    "# Resize logo\n",
    "logo = cv.resize(logo, (50,50))\n",
    "\n",
    "# Start capturing video from webcam\n",
    "cam = cv.VideoCapture(0)\n",
    "\n",
    "while True:\n",
    "    _, img = cam.read()\n",
    "    img = cv.flip(img, 1)\n",
    "    \n",
    "    img = cv.resize(img, (1280,720))\n",
    "    \n",
    "    ht = img.shape[0]\n",
    "    wt = img.shape[1]\n",
    "    \n",
    "#    Top Right\n",
    "    margin_top  = int(ht/100)             # 1%\n",
    "    logo_height = int((ht/100)*7)         # 7%\n",
    "    margin_left = int((wt/100)*95.5)      # 95.5%\n",
    "    logo_width  = int((wt/100)*4)         # 4%\n",
    "    logo = cv.resize(logo, (logo_width, logo_width))\n",
    "    img[ margin_top : logo_width + margin_top , margin_left : margin_left + logo_width ] = logo\n",
    "    \n",
    "#   Top Left\n",
    "    margin_top  = int(ht/100)             # 1%\n",
    "    logo_height = int((ht/100)*7)         # 7%\n",
    "    margin_left = int((wt/100)*.5)        # .5%\n",
    "    logo_width  = int((wt/100)*4)         # 4%\n",
    "    logo = cv.resize(logo, (logo_width, logo_width))\n",
    "    img[ margin_top : logo_width + margin_top , margin_left : margin_left + logo_width ] = logo\n",
    "    \n",
    "#   Bottom Left\n",
    "    margin_top  = int((ht/100)*92)        # 92%\n",
    "    logo_height = int((ht/100)*7)         # 7%\n",
    "    margin_left = int((wt/100)*.5)        # .5%\n",
    "    logo_width  = int((wt/100)*4)         # 4%\n",
    "    logo = cv.resize(logo, (logo_width, logo_width))\n",
    "    img[ margin_top : logo_width + margin_top , margin_left : margin_left + logo_width ] = logo\n",
    "\n",
    "#   Bottom Right\n",
    "    margin_top  = int((ht/100)*92)        # 92%\n",
    "    logo_height = int((ht/100)*7)         # 7%\n",
    "    margin_left = int((wt/100)*.5)        # .5%\n",
    "    logo_width  = int((wt/100)*4)         # 4%\n",
    "    logo = cv.resize(logo, (logo_width, logo_width))\n",
    "    img[ margin_top : logo_width + margin_top , margin_left : margin_left + logo_width ] = logo\n",
    "    \n",
    "    \n",
    "    cv.imshow('Frame', img)\n",
    "    \n",
    "    if cv.waitKey(1) == 27:\n",
    "        cam.release()\n",
    "        break\n"
   ]
  },
  {
   "cell_type": "markdown",
   "id": "c4259517",
   "metadata": {},
   "source": [
    "### Croping Image in real Time"
   ]
  },
  {
   "cell_type": "code",
   "execution_count": 15,
   "id": "c7f16543",
   "metadata": {},
   "outputs": [],
   "source": [
    "cam = cv.VideoCapture(0)\n",
    "\n",
    "logo = cv.imread('download.png')\n",
    "\n",
    "r = img.shape[1]\n",
    "\n",
    "\n",
    "## Apply it when image is croping from bottom\n",
    "# r = img.shape[0]\n",
    "\n",
    "while True:\n",
    "    \n",
    "    logo = cv.imread('download.png')\n",
    "    _, img = cam.read()\n",
    "\n",
    "    img = cv.flip(img,1)\n",
    "        \n",
    "    img = img[:,:r]\n",
    "    \n",
    "##  Apply it when croping image from bottom\n",
    "#   img = img[:r,:]\n",
    "    \n",
    "    ht = img.shape[0]\n",
    "    wt = img.shape[1]\n",
    "    \n",
    "    margin_top  = int(ht/100)             # 1%\n",
    "    logo_height = int((ht/100)*7)         # 7%\n",
    "    \n",
    "    margin_left = int((wt/100)*95.5)      # 95.5%\n",
    "    logo_width  = int((wt/100)*4)         # 4%\n",
    "    \n",
    "    side = min(logo_width,logo_height)\n",
    "    \n",
    "    logo = cv.resize(logo, (side, side))\n",
    "    \n",
    "    img[ margin_top : side + margin_top , margin_left : margin_left + side] = logo\n",
    "\n",
    "    cv.imshow('Frame'  , img)\n",
    "    \n",
    "    if (cv.waitKey(1) == 115):            ## press s to decreas the freme size\n",
    "        r -= 10\n",
    "    elif (cv.waitKey(1) == 119):          ## press w to increase the frame size\n",
    "        r += 10\n",
    "\n",
    "    elif cv.waitKey(1) == 27:\n",
    "        cam.release()\n",
    "        break"
   ]
  },
  {
   "cell_type": "markdown",
   "id": "c2235b6a",
   "metadata": {},
   "source": [
    "### Scalling the Image in Real Time"
   ]
  },
  {
   "cell_type": "code",
   "execution_count": 16,
   "id": "b424baa9",
   "metadata": {},
   "outputs": [],
   "source": [
    "cam = cv.VideoCapture(0)\n",
    "\n",
    "logo = cv.imread('download.png')\n",
    "\n",
    "scaling_factor = 1.0\n",
    "\n",
    "while True:\n",
    "    \n",
    "    logo = cv.imread('download.png')\n",
    "    _, img = cam.read()\n",
    "\n",
    "    img = cv.flip(img,1)\n",
    "        \n",
    "    img = cv.resize(img, (int(img.shape[1] * scaling_factor), int(img.shape[0] * scaling_factor)))\n",
    "    \n",
    "    \n",
    "    ht = img.shape[0]\n",
    "    wt = img.shape[1]\n",
    "    \n",
    "    margin_top  = int(ht/100)             # 1%\n",
    "    logo_height = int((ht/100)*7)         # 7%\n",
    "    \n",
    "    margin_left = int((wt/100)*95.5)      # 95.5%\n",
    "    logo_width  = int((wt/100)*4)         # 4%\n",
    "    \n",
    "    side = min(logo_width,logo_height)\n",
    "    \n",
    "    logo = cv.resize(logo, (side, side))\n",
    "    \n",
    "    img[ margin_top : side + margin_top , margin_left : margin_left + side] = logo\n",
    "\n",
    "    cv.imshow('Frame'  , img)\n",
    "    \n",
    "    if (cv.waitKey(1) == 115):             # press s to scale up the frame\n",
    "        scaling_factor -= .1\n",
    "    elif (cv.waitKey(1) == 119):           # press w to scale down the frame\n",
    "        scaling_factor += .1\n",
    "\n",
    "    elif cv.waitKey(1) == 27:\n",
    "        cam.release()\n",
    "        break"
   ]
  },
  {
   "cell_type": "markdown",
   "id": "c03c90c5",
   "metadata": {},
   "source": [
    "### Transperency in logo"
   ]
  },
  {
   "cell_type": "code",
   "execution_count": 17,
   "id": "98b277ab",
   "metadata": {},
   "outputs": [],
   "source": [
    "cam = cv.VideoCapture(0)\n",
    "\n",
    "logo = cv.imread('download.png')\n",
    "\n",
    "while True:\n",
    "    \n",
    "    logo = cv.imread('download.png')\n",
    "    _, img = cam.read()\n",
    "    img = cv.flip(img,1)\n",
    "    \n",
    "    \n",
    "    ht = img.shape[0]\n",
    "    wt = img.shape[1]\n",
    "    \n",
    "    margin_top  = int(ht/100)             # 1%\n",
    "    logo_height = int((ht/100)*7)         # 7%\n",
    "    \n",
    "    margin_left = int((wt/100)*95.5)      # 95.5%\n",
    "    logo_width  = int((wt/100)*4)         # 4%\n",
    "    \n",
    "    side = min(logo_width,logo_height)\n",
    "    \n",
    "    bg   = img[ margin_top : side + margin_top , margin_left : margin_left + side ].copy()\n",
    "    logo = cv.resize(logo, (side, side))\n",
    "    \n",
    "    final_logo = cv.addWeighted(bg, .3, logo, .7, 0) #Transparency \n",
    "    \n",
    "    img[ margin_top : side + margin_top , margin_left : margin_left + side ] = final_logo\n",
    "\n",
    "    cv.imshow('Frame'  , img )\n",
    "    cv.imshow('BG'     , bg  )\n",
    "    \n",
    "    if cv.waitKey(1) == 27:\n",
    "        cam.release()\n",
    "        break"
   ]
  },
  {
   "cell_type": "code",
   "execution_count": null,
   "id": "6c23b3fd",
   "metadata": {},
   "outputs": [],
   "source": []
  }
 ],
 "metadata": {
  "kernelspec": {
   "display_name": "Python 3 (ipykernel)",
   "language": "python",
   "name": "python3"
  },
  "language_info": {
   "codemirror_mode": {
    "name": "ipython",
    "version": 3
   },
   "file_extension": ".py",
   "mimetype": "text/x-python",
   "name": "python",
   "nbconvert_exporter": "python",
   "pygments_lexer": "ipython3",
   "version": "3.11.5"
  },
  "varInspector": {
   "cols": {
    "lenName": 16,
    "lenType": 16,
    "lenVar": 40
   },
   "kernels_config": {
    "python": {
     "delete_cmd_postfix": "",
     "delete_cmd_prefix": "del ",
     "library": "var_list.py",
     "varRefreshCmd": "print(var_dic_list())"
    },
    "r": {
     "delete_cmd_postfix": ") ",
     "delete_cmd_prefix": "rm(",
     "library": "var_list.r",
     "varRefreshCmd": "cat(var_dic_list()) "
    }
   },
   "types_to_exclude": [
    "module",
    "function",
    "builtin_function_or_method",
    "instance",
    "_Feature"
   ],
   "window_display": false
  }
 },
 "nbformat": 4,
 "nbformat_minor": 5
}
